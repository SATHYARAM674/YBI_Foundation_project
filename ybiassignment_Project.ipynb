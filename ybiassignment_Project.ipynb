{
 "cells": [
  {
   "cell_type": "markdown",
   "id": "ce3c9264",
   "metadata": {},
   "source": [
    "# Hand written Digit Prediction - Classifier Analysis"
   ]
  },
  {
   "cell_type": "markdown",
   "id": "cb7d4f94",
   "metadata": {},
   "source": [
    "<p> This is a model for Hand written digit prediction created using Random Forest Classifier algorithm. The dataset used is from scikit-learn dataset load_digits. This model gives the accuracy of 96%."
   ]
  },
  {
   "cell_type": "code",
   "execution_count": 4,
   "id": "c279cd37",
   "metadata": {},
   "outputs": [],
   "source": [
    "import pandas as pd\n",
    "import numpy as np\n",
    "import matplotlib.pyplot as plt"
   ]
  },
  {
   "cell_type": "code",
   "execution_count": 5,
   "id": "d0a02cc9",
   "metadata": {},
   "outputs": [],
   "source": [
    "from sklearn.datasets import load_digits\n"
   ]
  },
  {
   "cell_type": "code",
   "execution_count": 6,
   "id": "d91aab13",
   "metadata": {},
   "outputs": [],
   "source": [
    "df = load_digits()"
   ]
  },
  {
   "cell_type": "code",
   "execution_count": 7,
   "id": "3117aa6e",
   "metadata": {},
   "outputs": [
    {
     "data": {
      "image/png": "[encoded data removed]",
      "text/plain": [
       "<Figure size 720x216 with 4 Axes>"
      ]
     },
     "metadata": {
      "needs_background": "light"
     },
     "output_type": "display_data"
    }
   ],
   "source": [
    "_, axes = plt.subplots(nrows = 1, ncols = 4, figsize = (10,3))\n",
    "for ax, image, lable in zip(axes, df.images, df.target):\n",
    "    ax.set_axis_off()\n",
    "    ax.imshow(image, cmap = plt.cm.gray_r, interpolation = \"nearest\")\n",
    "    ax.set_title(\"Training %i\" %lable)\n"
   ]
  },
  {
   "cell_type": "code",
   "execution_count": 8,
   "id": "ba5deabc",
   "metadata": {},
   "outputs": [
    {
     "data": {
      "text/plain": [
       "(1797, 8, 8)"
      ]
     },
     "execution_count": 8,
     "metadata": {},
     "output_type": "execute_result"
    }
   ],
   "source": [
    "df.images.shape"
   ]
  },
  {
   "cell_type": "code",
   "execution_count": 9,
   "id": "8126a7f5",
   "metadata": {},
   "outputs": [
    {
     "data": {
      "text/plain": [
       "array([[ 0.,  0.,  5., 13.,  9.,  1.,  0.,  0.],\n",
       "       [ 0.,  0., 13., 15., 10., 15.,  5.,  0.],\n",
       "       [ 0.,  3., 15.,  2.,  0., 11.,  8.,  0.],\n",
       "       [ 0.,  4., 12.,  0.,  0.,  8.,  8.,  0.],\n",
       "       [ 0.,  5.,  8.,  0.,  0.,  9.,  8.,  0.],\n",
       "       [ 0.,  4., 11.,  0.,  1., 12.,  7.,  0.],\n",
       "       [ 0.,  2., 14.,  5., 10., 12.,  0.,  0.],\n",
       "       [ 0.,  0.,  6., 13., 10.,  0.,  0.,  0.]])"
      ]
     },
     "execution_count": 9,
     "metadata": {},
     "output_type": "execute_result"
    }
   ],
   "source": [
    "df.images[0]"
   ]
  },
  {
   "cell_type": "code",
   "execution_count": 10,
   "id": "ee9de3e0",
   "metadata": {},
   "outputs": [
    {
     "data": {
      "text/plain": [
       "(8, 8)"
      ]
     },
     "execution_count": 10,
     "metadata": {},
     "output_type": "execute_result"
    }
   ],
   "source": [
    "df.images[0].shape"
   ]
  },
  {
   "cell_type": "code",
   "execution_count": 11,
   "id": "541d0122",
   "metadata": {},
   "outputs": [
    {
     "data": {
      "text/plain": [
       "1797"
      ]
     },
     "execution_count": 11,
     "metadata": {},
     "output_type": "execute_result"
    }
   ],
   "source": [
    "len(df.images)"
   ]
  },
  {
   "cell_type": "code",
   "execution_count": 12,
   "id": "fe44abe6",
   "metadata": {},
   "outputs": [],
   "source": [
    "n_samples = len(df.images)\n",
    "data = df.images.reshape((n_samples, -1))\n"
   ]
  },
  {
   "cell_type": "code",
   "execution_count": 13,
   "id": "4a78c7d8",
   "metadata": {},
   "outputs": [
    {
     "data": {
      "text/plain": [
       "array([ 0.,  0.,  5., 13.,  9.,  1.,  0.,  0.,  0.,  0., 13., 15., 10.,\n",
       "       15.,  5.,  0.,  0.,  3., 15.,  2.,  0., 11.,  8.,  0.,  0.,  4.,\n",
       "       12.,  0.,  0.,  8.,  8.,  0.,  0.,  5.,  8.,  0.,  0.,  9.,  8.,\n",
       "        0.,  0.,  4., 11.,  0.,  1., 12.,  7.,  0.,  0.,  2., 14.,  5.,\n",
       "       10., 12.,  0.,  0.,  0.,  0.,  6., 13., 10.,  0.,  0.,  0.])"
      ]
     },
     "execution_count": 13,
     "metadata": {},
     "output_type": "execute_result"
    }
   ],
   "source": [
    "data[0]"
   ]
  },
  {
   "cell_type": "code",
   "execution_count": 15,
   "id": "d09b0a2c",
   "metadata": {},
   "outputs": [
    {
     "data": {
      "text/plain": [
       "(64,)"
      ]
     },
     "execution_count": 15,
     "metadata": {},
     "output_type": "execute_result"
    }
   ],
   "source": [
    "data[0].shape"
   ]
  },
  {
   "cell_type": "code",
   "execution_count": 16,
   "id": "87749902",
   "metadata": {},
   "outputs": [
    {
     "data": {
      "text/plain": [
       "(1797, 64)"
      ]
     },
     "execution_count": 16,
     "metadata": {},
     "output_type": "execute_result"
    }
   ],
   "source": [
    "data.shape"
   ]
  },
  {
   "cell_type": "markdown",
   "id": "2c73137b",
   "metadata": {},
   "source": [
    "# Scaling image data"
   ]
  },
  {
   "cell_type": "code",
   "execution_count": 17,
   "id": "696239d6",
   "metadata": {},
   "outputs": [
    {
     "data": {
      "text/plain": [
       "0.0"
      ]
     },
     "execution_count": 17,
     "metadata": {},
     "output_type": "execute_result"
    }
   ],
   "source": [
    "data.min()"
   ]
  },
  {
   "cell_type": "code",
   "execution_count": 19,
   "id": "2f4c0dcc",
   "metadata": {},
   "outputs": [
    {
     "data": {
      "text/plain": [
       "16.0"
      ]
     },
     "execution_count": 19,
     "metadata": {},
     "output_type": "execute_result"
    }
   ],
   "source": [
    "data.max()"
   ]
  },
  {
   "cell_type": "code",
   "execution_count": 21,
   "id": "8dcd1ef4",
   "metadata": {},
   "outputs": [],
   "source": [
    "data = data/16"
   ]
  },
  {
   "cell_type": "code",
   "execution_count": 22,
   "id": "13525cd2",
   "metadata": {},
   "outputs": [
    {
     "data": {
      "text/plain": [
       "0.0"
      ]
     },
     "execution_count": 22,
     "metadata": {},
     "output_type": "execute_result"
    }
   ],
   "source": [
    "data.min()"
   ]
  },
  {
   "cell_type": "code",
   "execution_count": 23,
   "id": "689b3ed4",
   "metadata": {},
   "outputs": [
    {
     "data": {
      "text/plain": [
       "0.0625"
      ]
     },
     "execution_count": 23,
     "metadata": {},
     "output_type": "execute_result"
    }
   ],
   "source": [
    "data.max()"
   ]
  },
  {
   "cell_type": "code",
   "execution_count": 24,
   "id": "4d591cd6",
   "metadata": {},
   "outputs": [
    {
     "data": {
      "text/plain": [
       "array([0.        , 0.        , 0.01953125, 0.05078125, 0.03515625,\n",
       "       0.00390625, 0.        , 0.        , 0.        , 0.        ,\n",
       "       0.05078125, 0.05859375, 0.0390625 , 0.05859375, 0.01953125,\n",
       "       0.        , 0.        , 0.01171875, 0.05859375, 0.0078125 ,\n",
       "       0.        , 0.04296875, 0.03125   , 0.        , 0.        ,\n",
       "       0.015625  , 0.046875  , 0.        , 0.        , 0.03125   ,\n",
       "       0.03125   , 0.        , 0.        , 0.01953125, 0.03125   ,\n",
       "       0.        , 0.        , 0.03515625, 0.03125   , 0.        ,\n",
       "       0.        , 0.015625  , 0.04296875, 0.        , 0.00390625,\n",
       "       0.046875  , 0.02734375, 0.        , 0.        , 0.0078125 ,\n",
       "       0.0546875 , 0.01953125, 0.0390625 , 0.046875  , 0.        ,\n",
       "       0.        , 0.        , 0.        , 0.0234375 , 0.05078125,\n",
       "       0.0390625 , 0.        , 0.        , 0.        ])"
      ]
     },
     "execution_count": 24,
     "metadata": {},
     "output_type": "execute_result"
    }
   ],
   "source": [
    "data[0]"
   ]
  },
  {
   "cell_type": "markdown",
   "id": "f97d7ee3",
   "metadata": {},
   "source": [
    "# Train Test Split Data"
   ]
  },
  {
   "cell_type": "code",
   "execution_count": 25,
   "id": "8709f88e",
   "metadata": {},
   "outputs": [],
   "source": [
    "from sklearn.model_selection import train_test_split"
   ]
  },
  {
   "cell_type": "code",
   "execution_count": 26,
   "id": "2672b38e",
   "metadata": {},
   "outputs": [],
   "source": [
    "X_train, X_test, Y_train, Y_test = train_test_split(data, df.target, test_size = 0.3)"
   ]
  },
  {
   "cell_type": "code",
   "execution_count": 27,
   "id": "ae2fc90b",
   "metadata": {},
   "outputs": [
    {
     "data": {
      "text/plain": [
       "((1257, 64), (540, 64), (1257,), (540,))"
      ]
     },
     "execution_count": 27,
     "metadata": {},
     "output_type": "execute_result"
    }
   ],
   "source": [
    "X_train.shape, X_test.shape, Y_train.shape, Y_test.shape"
   ]
  },
  {
   "cell_type": "markdown",
   "id": "752bc417",
   "metadata": {},
   "source": [
    "# Random Forest Model"
   ]
  },
  {
   "cell_type": "code",
   "execution_count": 28,
   "id": "82777590",
   "metadata": {},
   "outputs": [],
   "source": [
    "from sklearn.ensemble import RandomForestClassifier"
   ]
  },
  {
   "cell_type": "code",
   "execution_count": 29,
   "id": "eb41e7e0",
   "metadata": {},
   "outputs": [],
   "source": [
    "rf = RandomForestClassifier()"
   ]
  },
  {
   "cell_type": "code",
   "execution_count": 30,
   "id": "6ca7eb7b",
   "metadata": {},
   "outputs": [
    {
     "data": {
      "text/plain": [
       "RandomForestClassifier()"
      ]
     },
     "execution_count": 30,
     "metadata": {},
     "output_type": "execute_result"
    }
   ],
   "source": [
    "rf.fit(X_train, Y_train)"
   ]
  },
  {
   "cell_type": "markdown",
   "id": "92726cf8",
   "metadata": {},
   "source": [
    "# Predict Test Data"
   ]
  },
  {
   "cell_type": "code",
   "execution_count": 31,
   "id": "52241b4a",
   "metadata": {},
   "outputs": [],
   "source": [
    "Y_pred = rf.predict(X_test)"
   ]
  },
  {
   "cell_type": "code",
   "execution_count": 32,
   "id": "e27c904e",
   "metadata": {},
   "outputs": [
    {
     "data": {
      "text/plain": [
       "array([8, 2, 1, 5, 6, 3, 7, 8, 5, 2, 4, 7, 4, 4, 6, 1, 2, 4, 8, 9, 1, 9,\n",
       "       0, 3, 5, 8, 3, 1, 3, 1, 9, 7, 2, 7, 7, 8, 8, 7, 8, 9, 1, 8, 2, 8,\n",
       "       7, 1, 3, 7, 7, 9, 2, 6, 6, 4, 0, 2, 4, 1, 7, 1, 5, 9, 6, 2, 3, 9,\n",
       "       7, 9, 1, 6, 0, 9, 1, 3, 9, 0, 8, 9, 9, 5, 7, 2, 0, 0, 8, 6, 6, 3,\n",
       "       9, 7, 1, 4, 5, 0, 4, 1, 1, 4, 6, 2, 4, 6, 3, 0, 5, 3, 4, 7, 4, 8,\n",
       "       6, 6, 8, 3, 9, 0, 9, 8, 2, 7, 4, 3, 5, 0, 5, 5, 6, 2, 2, 8, 3, 1,\n",
       "       8, 4, 4, 8, 1, 4, 6, 3, 7, 2, 4, 2, 9, 5, 2, 5, 7, 4, 5, 1, 8, 3,\n",
       "       2, 3, 9, 4, 7, 2, 6, 8, 9, 6, 2, 1, 3, 7, 2, 3, 7, 7, 0, 6, 4, 5,\n",
       "       0, 6, 8, 6, 2, 3, 7, 8, 9, 2, 0, 3, 7, 8, 5, 9, 9, 5, 9, 9, 8, 5,\n",
       "       9, 1, 0, 9, 4, 9, 3, 3, 9, 3, 0, 6, 2, 7, 0, 2, 4, 0, 6, 3, 3, 8,\n",
       "       2, 1, 5, 7, 5, 0, 2, 4, 7, 9, 2, 0, 5, 0, 2, 7, 1, 6, 6, 6, 5, 1,\n",
       "       3, 8, 3, 7, 7, 8, 3, 1, 0, 3, 6, 9, 0, 3, 9, 2, 2, 7, 7, 5, 6, 0,\n",
       "       0, 9, 7, 1, 3, 1, 0, 8, 7, 6, 0, 5, 5, 8, 5, 3, 6, 3, 2, 2, 9, 9,\n",
       "       6, 9, 1, 7, 1, 5, 0, 0, 0, 1, 9, 4, 3, 4, 8, 8, 4, 3, 3, 8, 3, 3,\n",
       "       9, 8, 3, 9, 6, 1, 0, 4, 7, 7, 4, 8, 4, 2, 9, 2, 3, 3, 2, 0, 2, 8,\n",
       "       4, 1, 7, 4, 9, 9, 5, 3, 2, 0, 3, 0, 3, 6, 3, 7, 8, 6, 4, 1, 3, 1,\n",
       "       6, 3, 1, 3, 8, 4, 6, 7, 5, 2, 4, 9, 3, 4, 5, 8, 0, 1, 7, 0, 0, 1,\n",
       "       5, 8, 5, 4, 1, 7, 7, 2, 2, 1, 3, 1, 3, 5, 5, 9, 2, 0, 1, 5, 5, 1,\n",
       "       5, 7, 4, 1, 4, 5, 5, 1, 4, 1, 6, 2, 4, 7, 3, 1, 6, 3, 5, 3, 5, 5,\n",
       "       0, 8, 9, 0, 3, 4, 2, 4, 0, 6, 5, 3, 5, 3, 2, 3, 2, 5, 3, 0, 3, 4,\n",
       "       1, 1, 4, 7, 0, 1, 2, 7, 0, 4, 6, 7, 2, 1, 6, 4, 8, 0, 4, 0, 3, 2,\n",
       "       9, 4, 0, 7, 7, 6, 3, 6, 7, 6, 7, 6, 9, 0, 6, 2, 6, 7, 0, 5, 7, 7,\n",
       "       8, 8, 8, 8, 7, 6, 8, 6, 9, 2, 7, 5, 5, 8, 2, 7, 6, 8, 1, 9, 1, 6,\n",
       "       2, 4, 5, 2, 7, 7, 9, 6, 2, 6, 3, 9, 4, 5, 6, 9, 3, 1, 0, 2, 3, 0,\n",
       "       9, 3, 9, 7, 0, 1, 8, 1, 0, 2, 7, 0])"
      ]
     },
     "execution_count": 32,
     "metadata": {},
     "output_type": "execute_result"
    }
   ],
   "source": [
    "Y_pred"
   ]
  },
  {
   "cell_type": "markdown",
   "id": "c71286cb",
   "metadata": {},
   "source": [
    "# Model Accuracy"
   ]
  },
  {
   "cell_type": "code",
   "execution_count": 34,
   "id": "1e5a95b2",
   "metadata": {},
   "outputs": [],
   "source": [
    "from sklearn.metrics import confusion_matrix, classification_report"
   ]
  },
  {
   "cell_type": "code",
   "execution_count": 35,
   "id": "35b2a357",
   "metadata": {},
   "outputs": [],
   "source": [
    "confusion_matrix = (Y_test, Y_pred)"
   ]
  },
  {
   "cell_type": "code",
   "execution_count": 36,
   "id": "beff50be",
   "metadata": {},
   "outputs": [
    {
     "name": "stdout",
     "output_type": "stream",
     "text": [
      "              precision    recall  f1-score   support\n",
      "\n",
      "           0       0.94      0.96      0.95        52\n",
      "           1       0.92      1.00      0.96        49\n",
      "           2       1.00      0.97      0.98        58\n",
      "           3       1.00      0.92      0.96        72\n",
      "           4       0.96      0.98      0.97        49\n",
      "           5       0.92      0.94      0.93        48\n",
      "           6       0.98      0.96      0.97        53\n",
      "           7       0.98      0.98      0.98        61\n",
      "           8       0.90      0.96      0.92        45\n",
      "           9       0.94      0.92      0.93        53\n",
      "\n",
      "    accuracy                           0.96       540\n",
      "   macro avg       0.95      0.96      0.96       540\n",
      "weighted avg       0.96      0.96      0.96       540\n",
      "\n"
     ]
    }
   ],
   "source": [
    "print(classification_report(Y_test, Y_pred))"
   ]
  },
  {
   "cell_type": "markdown",
   "id": "b73edcf3",
   "metadata": {},
   "source": [
    "# Conclusion"
   ]
  },
  {
   "cell_type": "markdown",
   "id": "b1be5249",
   "metadata": {},
   "source": [
    "<p> This model uses predefined data from scikit-learn for further upgrade the user defined datasets can be added for training that provides more accuracy."
   ]
  }
 ],
 "metadata": {
  "kernelspec": {
   "display_name": "Python 3 (ipykernel)",
   "language": "python",
   "name": "python3"
  },
  "language_info": {
   "codemirror_mode": {
    "name": "ipython",
    "version": 3
   },
   "file_extension": ".py",
   "mimetype": "text/x-python",
   "name": "python",
   "nbconvert_exporter": "python",
   "pygments_lexer": "ipython3",
   "version": "3.9.7"
  }
 },
 "nbformat": 4,
 "nbformat_minor": 5
}
